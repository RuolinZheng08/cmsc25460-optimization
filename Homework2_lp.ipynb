{
  "nbformat": 4,
  "nbformat_minor": 0,
  "metadata": {
    "anaconda-cloud": {},
    "kernelspec": {
      "display_name": "Python 3",
      "language": "python",
      "name": "python3"
    },
    "language_info": {
      "codemirror_mode": {
        "name": "ipython",
        "version": 3
      },
      "file_extension": ".py",
      "mimetype": "text/x-python",
      "name": "python",
      "nbconvert_exporter": "python",
      "pygments_lexer": "ipython3",
      "version": "3.7.6"
    },
    "latex_envs": {
      "LaTeX_envs_menu_present": true,
      "autocomplete": false,
      "bibliofile": "biblio.bib",
      "cite_by": "apalike",
      "current_citInitial": 1,
      "eqLabelWithNumbers": true,
      "eqNumInitial": 1,
      "hotkeys": {
        "equation": "Ctrl-E",
        "itemize": "Ctrl-I"
      },
      "labels_anchors": true,
      "latex_user_defs": true,
      "report_style_numbering": false,
      "user_envs_cfg": true
    },
    "colab": {
      "name": "homework2-lp.ipynb",
      "provenance": [],
      "collapsed_sections": [],
      "toc_visible": true,
      "include_colab_link": true
    }
  },
  "cells": [
    {
      "cell_type": "markdown",
      "metadata": {
        "id": "view-in-github",
        "colab_type": "text"
      },
      "source": [
        "<a href=\"https://colab.research.google.com/github/RuolinZheng08/cmsc25460-optimization/blob/master/Homework2_lp.ipynb\" target=\"_parent\"><img src=\"https://colab.research.google.com/assets/colab-badge.svg\" alt=\"Open In Colab\"/></a>"
      ]
    },
    {
      "cell_type": "markdown",
      "metadata": {
        "id": "_DJuxNERliZj",
        "colab_type": "text"
      },
      "source": [
        "# Homework 2 "
      ]
    },
    {
      "cell_type": "markdown",
      "metadata": {
        "id": "b9AmZYnSliZk",
        "colab_type": "text"
      },
      "source": [
        "[CVXPY](https://www.cvxpy.org/tutorial/intro/index.html) is a Python-embedded modeling language for convex optimization problems. It allows you to express your problem in a natural way that follows the math, rather than in the restrictive standard form required by solvers."
      ]
    },
    {
      "cell_type": "markdown",
      "metadata": {
        "id": "sVsGTFVfliZl",
        "colab_type": "text"
      },
      "source": [
        "# Exercise\n",
        "\n",
        "### Shortest s-t path\n",
        "\n",
        "Use CVXPY to construct and solve the linear programming formulation of $s$-$t$ shortest path from Problem 5 over the graph below, where edges are labeled by their length.\n",
        "\n",
        "![Flow Graph](https://drive.google.com/uc?export=view&id=1NOZuGFUkXOO780FQsMzNsvPDe4udnzHJ)\n",
        "\n",
        "Submit your code and your solution (including primal and dual optimal solutions) as a pdf through gradescope with the rest of the homework."
      ]
    },
    {
      "cell_type": "markdown",
      "metadata": {
        "id": "Ac30dM0aliZm",
        "colab_type": "text"
      },
      "source": [
        "__Note__: There are two strategies to accomplish this. The simplest one is to explicitly write all the constraints for the linear program algebraically as done in the examples you have seen before. If you are more comfortable with Python, you could try to use the object oriented approach described [here](https://www.cvxpy.org/examples/applications/OOCO.html)."
      ]
    },
    {
      "cell_type": "code",
      "metadata": {
        "id": "Ppf1rFmxliZm",
        "colab_type": "code",
        "colab": {}
      },
      "source": [
        "import cvxpy as cp\n",
        "\n",
        "edges = [   # (u, v, w)\n",
        "    (\"S\", \"A\", 6),\n",
        "    (\"S\", \"B\", 1),\n",
        "    (\"S\", \"C\", 10),\n",
        "    (\"A\", \"B\", 2),\n",
        "    (\"A\", \"D\", 4),\n",
        "    (\"A\", \"E\", 1),\n",
        "    (\"B\", \"E\", 20),\n",
        "    (\"C\", \"B\", 2),\n",
        "    (\"C\", \"F\", 5),\n",
        "    (\"D\", \"E\", 2),\n",
        "    (\"D\", \"G\", 5),\n",
        "    (\"E\", \"F\", 6),\n",
        "    (\"E\", \"G\", 10),\n",
        "    (\"F\", \"T\", 4),\n",
        "    (\"G\", \"T\", 12)\n",
        "]\n",
        "\n"
      ],
      "execution_count": 0,
      "outputs": []
    }
  ]
}