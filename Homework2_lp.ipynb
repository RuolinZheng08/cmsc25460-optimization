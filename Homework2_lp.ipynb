{
  "nbformat": 4,
  "nbformat_minor": 0,
  "metadata": {
    "anaconda-cloud": {},
    "kernelspec": {
      "display_name": "Python 3",
      "language": "python",
      "name": "python3"
    },
    "language_info": {
      "codemirror_mode": {
        "name": "ipython",
        "version": 3
      },
      "file_extension": ".py",
      "mimetype": "text/x-python",
      "name": "python",
      "nbconvert_exporter": "python",
      "pygments_lexer": "ipython3",
      "version": "3.7.6"
    },
    "latex_envs": {
      "LaTeX_envs_menu_present": true,
      "autocomplete": false,
      "bibliofile": "biblio.bib",
      "cite_by": "apalike",
      "current_citInitial": 1,
      "eqLabelWithNumbers": true,
      "eqNumInitial": 1,
      "hotkeys": {
        "equation": "Ctrl-E",
        "itemize": "Ctrl-I"
      },
      "labels_anchors": true,
      "latex_user_defs": true,
      "report_style_numbering": false,
      "user_envs_cfg": true
    },
    "colab": {
      "name": "Homework2-lp.ipynb",
      "provenance": [],
      "collapsed_sections": [],
      "include_colab_link": true
    }
  },
  "cells": [
    {
      "cell_type": "markdown",
      "metadata": {
        "id": "view-in-github",
        "colab_type": "text"
      },
      "source": [
        "<a href=\"https://colab.research.google.com/github/RuolinZheng08/cmsc25460-optimization/blob/master/Homework2_lp.ipynb\" target=\"_parent\"><img src=\"https://colab.research.google.com/assets/colab-badge.svg\" alt=\"Open In Colab\"/></a>"
      ]
    },
    {
      "cell_type": "markdown",
      "metadata": {
        "id": "_DJuxNERliZj",
        "colab_type": "text"
      },
      "source": [
        "# Homework 2 "
      ]
    },
    {
      "cell_type": "markdown",
      "metadata": {
        "id": "b9AmZYnSliZk",
        "colab_type": "text"
      },
      "source": [
        "[CVXPY](https://www.cvxpy.org/tutorial/intro/index.html) is a Python-embedded modeling language for convex optimization problems. It allows you to express your problem in a natural way that follows the math, rather than in the restrictive standard form required by solvers."
      ]
    },
    {
      "cell_type": "markdown",
      "metadata": {
        "id": "sVsGTFVfliZl",
        "colab_type": "text"
      },
      "source": [
        "# Exercise\n",
        "\n",
        "### Shortest s-t path\n",
        "\n",
        "Use CVXPY to construct and solve the linear programming formulation of $s$-$t$ shortest path from Problem 5 over the graph below, where edges are labeled by their length.\n",
        "\n",
        "![Flow Graph](https://drive.google.com/uc?export=view&id=1NOZuGFUkXOO780FQsMzNsvPDe4udnzHJ)\n",
        "\n",
        "Submit your code and your solution (including primal and dual optimal solutions) as a pdf through gradescope with the rest of the homework."
      ]
    },
    {
      "cell_type": "markdown",
      "metadata": {
        "id": "Ac30dM0aliZm",
        "colab_type": "text"
      },
      "source": [
        "__Note__: There are two strategies to accomplish this. The simplest one is to explicitly write all the constraints for the linear program algebraically as done in the examples you have seen before. If you are more comfortable with Python, you could try to use the object oriented approach described [here](https://www.cvxpy.org/examples/applications/OOCO.html)."
      ]
    },
    {
      "cell_type": "code",
      "metadata": {
        "id": "Ppf1rFmxliZm",
        "colab_type": "code",
        "colab": {}
      },
      "source": [
        "import cvxpy as cp\n",
        "import numpy as np\n",
        "\n",
        "nodedata = ['S', 'A', 'B', 'C', 'D', 'E', 'F', 'G', 'T']\n",
        "nodedict = {elm: i for i, elm in enumerate(nodedata)}\n",
        "\n",
        "edgedata = [   # (u, v, w)\n",
        "    (\"S\", \"A\", 6),\n",
        "    (\"S\", \"B\", 1),\n",
        "    (\"S\", \"C\", 10),\n",
        "    (\"A\", \"B\", 2),\n",
        "    (\"A\", \"D\", 4),\n",
        "    (\"A\", \"E\", 1),\n",
        "    (\"B\", \"E\", 20),\n",
        "    (\"C\", \"B\", 2),\n",
        "    (\"C\", \"F\", 5),\n",
        "    (\"D\", \"E\", 2),\n",
        "    (\"D\", \"G\", 5),\n",
        "    (\"E\", \"F\", 6),\n",
        "    (\"E\", \"G\", 10),\n",
        "    (\"F\", \"T\", 4),\n",
        "    (\"G\", \"T\", 12)\n",
        "]\n",
        "\n",
        "num_nodes = len(nodedata)\n",
        "num_edges = len(edgedata)"
      ],
      "execution_count": 0,
      "outputs": []
    },
    {
      "cell_type": "code",
      "metadata": {
        "id": "boYIIsfctGER",
        "colab_type": "code",
        "colab": {}
      },
      "source": [
        "c = np.zeros(num_edges)\n",
        "A = np.zeros((num_nodes, num_edges))\n",
        "\n",
        "b = np.zeros(num_nodes)\n",
        "# fill in -1 for S and 1 for T in b\n",
        "b[0] = -1\n",
        "b[-1] = 1"
      ],
      "execution_count": 0,
      "outputs": []
    },
    {
      "cell_type": "code",
      "metadata": {
        "id": "93IltAe4s6G7",
        "colab_type": "code",
        "colab": {}
      },
      "source": [
        "for e_idx, tup in enumerate(edgedata):\n",
        "  out_node, in_node, length = tup\n",
        "  c[e_idx] = length\n",
        "  in_idx, out_idx = nodedict[in_node], nodedict[out_node]\n",
        "  A[in_idx, e_idx] = 1\n",
        "  A[out_idx, e_idx] = -1"
      ],
      "execution_count": 0,
      "outputs": []
    },
    {
      "cell_type": "code",
      "metadata": {
        "id": "rJucS0XYutGr",
        "colab_type": "code",
        "colab": {
          "base_uri": "https://localhost:8080/",
          "height": 101
        },
        "outputId": "b2de2a89-f8d0-406b-cd56-ef2dea73f188"
      },
      "source": [
        "# primal\n",
        "x = cp.Variable(num_edges)\n",
        "objective = cp.Minimize(c @ x)\n",
        "constraints = [A @ x == b, x >= 0]\n",
        "prob = cp.Problem(objective, constraints)\n",
        "print(prob.solve())\n",
        "print(x.value)"
      ],
      "execution_count": 114,
      "outputs": [
        {
          "output_type": "stream",
          "text": [
            "17.000000002057455\n",
            "[ 9.99999999e-01  2.50164016e-10  1.20741352e-09 -5.56221834e-11\n",
            "  2.48206727e-10  9.99999998e-01 -1.39941451e-11 -2.08542964e-10\n",
            "  1.41809512e-09  1.23106097e-10  1.25045228e-10  9.99999998e-01\n",
            "  1.93565816e-11  1.00000000e+00  1.43714559e-10]\n"
          ],
          "name": "stdout"
        }
      ]
    },
    {
      "cell_type": "code",
      "metadata": {
        "id": "39TngPEayMHl",
        "colab_type": "code",
        "colab": {
          "base_uri": "https://localhost:8080/",
          "height": 67
        },
        "outputId": "07f2e835-8507-4051-a9bc-f3eaa4b13d67"
      },
      "source": [
        "# dual\n",
        "y = cp.Variable(num_nodes)\n",
        "objective = cp.Maximize(b @ y)\n",
        "constraints = [A.T @ y <= c, y >= 0]\n",
        "prob = cp.Problem(objective, constraints)\n",
        "print(prob.solve())\n",
        "print(y.value)"
      ],
      "execution_count": 117,
      "outputs": [
        {
          "output_type": "stream",
          "text": [
            "16.99999999824151\n",
            "[ 1.22899124  7.22899124  1.07679878 10.34602567  8.85998402  8.22899124\n",
            " 14.22899124 10.611074   18.22899124]\n"
          ],
          "name": "stdout"
        }
      ]
    },
    {
      "cell_type": "code",
      "metadata": {
        "id": "wBYYwOpxygRN",
        "colab_type": "code",
        "colab": {
          "base_uri": "https://localhost:8080/",
          "height": 84
        },
        "outputId": "ac021cc8-f3f0-484a-c0e9-291b8cbfc8de"
      },
      "source": [
        "# recover the path\n",
        "for i, val in enumerate(x.value):\n",
        "  if np.isclose(val, 1):\n",
        "    print(edgedata[i])"
      ],
      "execution_count": 123,
      "outputs": [
        {
          "output_type": "stream",
          "text": [
            "('S', 'A', 6)\n",
            "('A', 'E', 1)\n",
            "('E', 'F', 6)\n",
            "('F', 'T', 4)\n"
          ],
          "name": "stdout"
        }
      ]
    },
    {
      "cell_type": "markdown",
      "metadata": {
        "id": "zqFGxnIGyavD",
        "colab_type": "text"
      },
      "source": [
        "## Conclusion\n",
        "The shortest path `S->A->E->F->T` has length 17."
      ]
    }
  ]
}